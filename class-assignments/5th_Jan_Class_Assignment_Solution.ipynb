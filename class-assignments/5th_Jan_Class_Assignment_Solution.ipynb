{
 "cells": [
  {
   "cell_type": "markdown",
   "id": "28d137fd-c6a1-44fb-97cc-a10f4a5a2bb4",
   "metadata": {},
   "source": [
    "Write a program to accept five integers from the user , store them in a list . Display these integers and also display their sum\n"
   ]
  },
  {
   "cell_type": "code",
   "execution_count": 3,
   "id": "cfa463fe",
   "metadata": {},
   "outputs": [
    {
     "name": "stdout",
     "output_type": "stream",
     "text": [
      "1\n",
      "2\n",
      "3\n",
      "4\n",
      "5\n",
      "sum:  15\n"
     ]
    }
   ],
   "source": [
    "def input_in_list(n):\n",
    "    i=1\n",
    "    l=[]\n",
    "    while i<=n:\n",
    "        num=int(input(\"Enter a number\"))\n",
    "        l.append(num)\n",
    "        print(num)\n",
    "        i=i+1\n",
    "    return l\n",
    "l=input_in_list(5)\n",
    "print('sum: ', sum(l))"
   ]
  },
  {
   "cell_type": "markdown",
   "id": "834afcbb-05b0-4362-8aae-ed4758322c29",
   "metadata": {},
   "source": [
    "Write a program to accept 5 unique integers from the user. Make sure if the integer being entered is already present in the list your code displays the message “Item already present” and ask the user to reenter the integer. \n"
   ]
  },
  {
   "cell_type": "code",
   "execution_count": 4,
   "id": "229bfaab",
   "metadata": {},
   "outputs": [
    {
     "name": "stdout",
     "output_type": "stream",
     "text": [
      "Item already present, please reenter the integer\n",
      "Item already present, please reenter the integer\n",
      "[1, 2, 3, 4, 5]\n"
     ]
    }
   ],
   "source": [
    "def uniqueElementer(n):\n",
    "    i=1\n",
    "    l=[]\n",
    "    while i<=n:\n",
    "        num=int(input(\"Enter a number\"))\n",
    "        if num in l:\n",
    "            print('Item already present, please reenter the integer')\n",
    "            continue\n",
    "        l.append(num)\n",
    "\n",
    "        i=i+1\n",
    "    return l\n",
    "\n",
    "print(uniqueElementer(5))"
   ]
  },
  {
   "cell_type": "markdown",
   "id": "ca3ae842-b507-4e46-94fc-1e844fb1ab8d",
   "metadata": {},
   "source": [
    "Write a program to accept 2 lists from the user of 5 nos each . Assume each list will have unique nos Now find out how many items in these lists are common .\n"
   ]
  },
  {
   "cell_type": "code",
   "execution_count": 22,
   "id": "15879533",
   "metadata": {},
   "outputs": [
    {
     "name": "stdout",
     "output_type": "stream",
     "text": [
      "No. of common element:  3\n"
     ]
    }
   ],
   "source": [
    "#Approach 1\n",
    "l1=[int(i) for i in input()]\n",
    "l2=[int(i) for i in input()]\n",
    "l3=l1.copy()\n",
    "l3.extend(l2)\n",
    "l3_set=set(l3)\n",
    "common_lement=2*len(l2) - len(l3_set)\n",
    "print('No. of common element: ',common_lement)\n",
    "\n"
   ]
  },
  {
   "cell_type": "markdown",
   "id": "0f732446-66e5-482d-99f1-608d1ee3631d",
   "metadata": {},
   "source": [
    "Rewrite the previous code so that your code alos displays the items which are common in both the lists\n"
   ]
  },
  {
   "cell_type": "code",
   "execution_count": 23,
   "id": "8ea5f343",
   "metadata": {},
   "outputs": [
    {
     "data": {
      "text/plain": [
       "[1, 2, 3, 4, 5]"
      ]
     },
     "execution_count": 23,
     "metadata": {},
     "output_type": "execute_result"
    }
   ],
   "source": [
    "l1"
   ]
  },
  {
   "cell_type": "code",
   "execution_count": 26,
   "id": "52897171",
   "metadata": {},
   "outputs": [
    {
     "data": {
      "text/plain": [
       "[3, 4, 5, 6, 7]"
      ]
     },
     "execution_count": 26,
     "metadata": {},
     "output_type": "execute_result"
    }
   ],
   "source": [
    "l2"
   ]
  },
  {
   "cell_type": "code",
   "execution_count": 25,
   "id": "aa1f9496-0316-48cd-9cf5-dd72166d7df7",
   "metadata": {},
   "outputs": [
    {
     "name": "stdout",
     "output_type": "stream",
     "text": [
      "3\n",
      "4\n",
      "5\n"
     ]
    }
   ],
   "source": [
    "#printing of element\n",
    "for i in l1:\n",
    "    if i in l2:\n",
    "        print(i)"
   ]
  }
 ],
 "metadata": {
  "kernelspec": {
   "display_name": "base",
   "language": "python",
   "name": "python3"
  },
  "language_info": {
   "codemirror_mode": {
    "name": "ipython",
    "version": 3
   },
   "file_extension": ".py",
   "mimetype": "text/x-python",
   "name": "python",
   "nbconvert_exporter": "python",
   "pygments_lexer": "ipython3",
   "version": "3.9.12"
  },
  "vscode": {
   "interpreter": {
    "hash": "b7082a90f0341f66b325168da8fc238f0b2aba7ee16848d917086bb4ed45c134"
   }
  }
 },
 "nbformat": 4,
 "nbformat_minor": 5
}
