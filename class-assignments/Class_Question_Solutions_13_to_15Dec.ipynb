{
 "cells": [
  {
   "cell_type": "markdown",
   "id": "e537c777-02e0-443b-96f9-8c350e20bd5a",
   "metadata": {},
   "source": [
    "- WAP to accept two numbers from the user and display their sum"
   ]
  },
  {
   "cell_type": "code",
   "execution_count": 4,
   "id": "aa14eac7-ba6d-4f98-863a-6e8fea505e87",
   "metadata": {},
   "outputs": [
    {
     "name": "stdin",
     "output_type": "stream",
     "text": [
      "Enter the 1st Number: 5\n",
      "Enter the 2nd Number: 6\n"
     ]
    },
    {
     "name": "stdout",
     "output_type": "stream",
     "text": [
      "Sum of 5 and 6 is 11\n"
     ]
    }
   ],
   "source": [
    "def sum():\n",
    "    a=int(input(\"Enter the 1st Number:\"))\n",
    "    b=int(input(\"Enter the 2nd Number:\"))\n",
    "    sum2=a+b\n",
    "    print(\"Sum of {a} and {b} is {sum2}\".format(a=a,b=b,sum2=sum2))\n",
    "          \n",
    "sum()"
   ]
  },
  {
   "cell_type": "markdown",
   "id": "387797ab-13e9-4a35-b49e-d54b69fc8a3d",
   "metadata": {},
   "source": [
    "- WAP to accept radius of a Circle from the user and calculate area and circumference"
   ]
  },
  {
   "cell_type": "code",
   "execution_count": 7,
   "id": "44361d58-4c44-4b2b-b58b-3106ff0b9887",
   "metadata": {},
   "outputs": [
    {
     "name": "stdin",
     "output_type": "stream",
     "text": [
      "Enter the radious of circle: 5\n"
     ]
    },
    {
     "name": "stdout",
     "output_type": "stream",
     "text": [
      "When radious is 5, circumfernce and area are 31.43, 78.575\n"
     ]
    }
   ],
   "source": [
    "def circle():\n",
    "    r=int(input(\"Enter the radious of circle:\"))\n",
    "    area=3.143*r*r\n",
    "    circumference = 2*3.143*r\n",
    "    \n",
    "    print(\"When radious is {r}, circumfernce and area are {circumference}, {area}\".format(r=r,area=area,circumference=circumference))\n",
    "circle()"
   ]
  },
  {
   "cell_type": "markdown",
   "id": "b6f6b0ff-10de-40cd-bda1-497729b17606",
   "metadata": {},
   "source": [
    "- WAP to accept roll number , grade and percentage as input from the user and display it back"
   ]
  },
  {
   "cell_type": "code",
   "execution_count": 9,
   "id": "e2138c67-d886-4822-bbed-dc73409b212f",
   "metadata": {},
   "outputs": [
    {
     "name": "stdin",
     "output_type": "stream",
     "text": [
      "Enter the roll_number: 5\n",
      "Enter the grade: A\n",
      "Enter the percentage: 80\n"
     ]
    },
    {
     "name": "stdout",
     "output_type": "stream",
     "text": [
      "roll_number: 5,Grade: A, percentage: 80\n"
     ]
    }
   ],
   "source": [
    "def display():\n",
    "    roll_number=int(input(\"Enter the roll_number:\"))\n",
    "    grade=input(\"Enter the grade:\")\n",
    "    percentage=int(input(\"Enter the percentage:\"))\n",
    "    \n",
    "    print(\"roll_number: {}, Grade: {}, percentage: {}\".format(roll_number,grade,percentage))\n",
    "    \n",
    "display()"
   ]
  },
  {
   "cell_type": "markdown",
   "id": "90da742c-bc17-42ca-b4d0-1b4cbd226853",
   "metadata": {},
   "source": [
    "- Write a program that asks the user to enter his/her name and age. Print out a message , displaying the user’s name along with the year in which they will turn 100 years old."
   ]
  },
  {
   "cell_type": "code",
   "execution_count": 15,
   "id": "5695eba1-d629-4af2-82cc-090f93d80dba",
   "metadata": {},
   "outputs": [
    {
     "name": "stdin",
     "output_type": "stream",
     "text": [
      "Enter name:  Srikanta\n",
      "Enter the current age:  27\n"
     ]
    },
    {
     "name": "stdout",
     "output_type": "stream",
     "text": [
      "Year to become 100 year old is 2095\n"
     ]
    }
   ],
   "source": [
    "def displayAge():\n",
    "    import datetime\n",
    "    today = datetime.date.today()\n",
    "    year = today.year\n",
    "    name=input(\"Enter name: \")\n",
    "    age=int(input(\"Enter the current age: \"))\n",
    "    Year_to_become_100_year_old=year+(100-age)\n",
    "    print(\"Year to become 100 year old is {}\".format(Year_to_become_100_year_old))\n",
    "displayAge()"
   ]
  },
  {
   "cell_type": "markdown",
   "id": "7540cd2c-9f38-4893-80b3-b7633fe03372",
   "metadata": {},
   "source": [
    "- Write a program that asks the user to input 2 integers and adds them . Accept both the numbers in a single line only"
   ]
  },
  {
   "cell_type": "code",
   "execution_count": 9,
   "id": "929d827a-627d-4395-b968-79711afafa7d",
   "metadata": {},
   "outputs": [
    {
     "name": "stdin",
     "output_type": "stream",
     "text": [
      " 5 6\n"
     ]
    },
    {
     "name": "stdout",
     "output_type": "stream",
     "text": [
      "Addition of two number: 11\n"
     ]
    }
   ],
   "source": [
    "def add():\n",
    "    x,y=input().split()\n",
    "    add2=int(x) + int(y)\n",
    "    print(\"Addition of two number: {}\".format(add2))\n",
    "add()"
   ]
  },
  {
   "cell_type": "markdown",
   "id": "a5a092ce-2002-4197-881e-0e353f293e8b",
   "metadata": {},
   "source": [
    "- Write a Python program which accepts the user's first and last name and print them in reverse order with a space between them."
   ]
  },
  {
   "cell_type": "code",
   "execution_count": 13,
   "id": "4221f4aa-e4a2-4cf8-b9ca-fc42802b80c3",
   "metadata": {},
   "outputs": [
    {
     "name": "stdin",
     "output_type": "stream",
     "text": [
      "Enter your full name:  Srikanta Biswal\n"
     ]
    },
    {
     "name": "stdout",
     "output_type": "stream",
     "text": [
      "l a w s i B   a t n a k i r S "
     ]
    }
   ],
   "source": [
    "def reverseOrd():\n",
    "    name=input(\"Enter your full name: \")\n",
    "    reverse_name=name[::-1]\n",
    "    #print(reverse_name)\n",
    "    for char in reverse_name:\n",
    "        print(char,end=' ')\n",
    "        \n",
    "reverseOrd()     "
   ]
  },
  {
   "cell_type": "markdown",
   "id": "379f2ba6-8623-4339-bc76-25a0bb94384b",
   "metadata": {},
   "source": [
    "- WAP to accept an integer from the user and check whether it is an even or odd "
   ]
  },
  {
   "cell_type": "code",
   "execution_count": 16,
   "id": "03b07f25-7091-4cb1-b184-7acdc6de23c5",
   "metadata": {},
   "outputs": [
    {
     "name": "stdin",
     "output_type": "stream",
     "text": [
      "Enter a number:  5\n"
     ]
    },
    {
     "name": "stdout",
     "output_type": "stream",
     "text": [
      "It is odd number\n"
     ]
    }
   ],
   "source": [
    "def evenOdd():\n",
    "    num=int(input(\"Enter a number: \"))\n",
    "    if num%2==0:\n",
    "        print(\"It is even number\")\n",
    "    else:\n",
    "        print(\"It is odd number\")\n",
    "\n",
    "evenOdd()"
   ]
  },
  {
   "cell_type": "markdown",
   "id": "f16d0ebb-6de6-42dc-b0ce-6cbbba3860f0",
   "metadata": {},
   "source": [
    "- WAP to accept a character from the user and check whether it is a capital letter or small letter. Assume user will input only alphabets"
   ]
  },
  {
   "cell_type": "code",
   "execution_count": null,
   "id": "42d6840f-28fe-4422-b7f7-d152d6eac71f",
   "metadata": {},
   "outputs": [],
   "source": [
    "def check():\n",
    "    char = input(\"Enter the character: \")\n",
    "    ch= ord(char)\n",
    "    if (ch>=65 & ch<=90):\n",
    "        print(\"Character is a capital letter\")\n",
    "    elif (ch>=97 & ch<=122):\n",
    "        print(\"Character is a small letter\")\n",
    "check()\n",
    "    "
   ]
  },
  {
   "cell_type": "markdown",
   "id": "4e408b52-ec32-4737-95dd-862506a3dc87",
   "metadata": {},
   "source": [
    "- WAP to accept a character from the user and check whether it is a capital letter or small letter or a digit or some special symbol\n",
    "- Characters  ASCII Values\n",
    "- A – Z\t65 – 90\n",
    "- a – z\t97 – 122\n",
    "- 0 – 9\t48 – 57\n",
    "- special symbols\t0 - 47, 58 - 64, 91 - 96, 123 – 127"
   ]
  },
  {
   "cell_type": "code",
   "execution_count": 60,
   "id": "a57c96b9-77d2-41a1-8408-6eb3bf3181d6",
   "metadata": {},
   "outputs": [
    {
     "name": "stdin",
     "output_type": "stream",
     "text": [
      "Enter the character:  A\n"
     ]
    },
    {
     "name": "stdout",
     "output_type": "stream",
     "text": [
      "Character is a capital letter\n"
     ]
    }
   ],
   "source": [
    "def check():\n",
    "    char = input(\"Enter the character: \")\n",
    "    ch= ord(char)\n",
    "    if (ch>=65 & ch<=90):\n",
    "        print(\"Character is a capital letter\")\n",
    "    elif (ch>=97 & ch<=122):\n",
    "        print(\"Character is a small letter\")\n",
    "    elif (ch>=48 & ch<=57):\n",
    "        print(\"Character is a digit\")\n",
    "    elif ((ch>0 & ch<=47)|(ch>=58 & ch<=64)|(ch>=91 & ch<=96)|(ch>=123 & ch<=127)):\n",
    "        print(\"Character is a special symbol\")\n",
    "check()"
   ]
  },
  {
   "cell_type": "markdown",
   "id": "5472ac8d-239c-43dd-a42f-472395d9856d",
   "metadata": {},
   "source": [
    "- WAP to accept 3 integers from the user and without using any logical operator and cascading of relational operators , find out the greatest number amongst them"
   ]
  },
  {
   "cell_type": "code",
   "execution_count": 67,
   "id": "ff635700-8bc4-45e4-991a-c212802d4519",
   "metadata": {},
   "outputs": [
    {
     "name": "stdin",
     "output_type": "stream",
     "text": [
      "1st number:  50\n",
      "2nd number:  60\n",
      "3rd number:  100\n"
     ]
    },
    {
     "name": "stdout",
     "output_type": "stream",
     "text": [
      "Numbers are 50,60 and 100\n",
      "Largest Number is:  100\n"
     ]
    }
   ],
   "source": [
    "x=int(input('1st number: '))\n",
    "y=int(input('2nd number: '))\n",
    "z=int(input('3rd number: '))\n",
    "def checkLargestNumber(x,y,z):\n",
    "    print(\"Numbers are {},{} and {}\".format(x,y,z))\n",
    "    if x>y:\n",
    "        if x>z:\n",
    "            print(\"Largest Number is: \",x)\n",
    "        else:\n",
    "            print(\"Largest Number is: \",z)\n",
    "    elif y>x:\n",
    "        if y>z:\n",
    "            print(\"Largest Number is: \",y)\n",
    "        else:\n",
    "            print(\"Largest Number is: \",z)\n",
    "    else:\n",
    "        print(\"Largest Number is: \",z)\n",
    "checkLargestNumber(x,y,z)   "
   ]
  },
  {
   "cell_type": "markdown",
   "id": "35f94d70-9629-40f4-964e-8f76318c794a",
   "metadata": {},
   "source": [
    "- WAP to accept a year from the user and check whether it is a leap year or not."
   ]
  },
  {
   "cell_type": "code",
   "execution_count": 73,
   "id": "dd9975c9-b0f3-4934-9492-4db6657a0e8c",
   "metadata": {},
   "outputs": [
    {
     "name": "stdin",
     "output_type": "stream",
     "text": [
      "Enter the leap year:  1900\n"
     ]
    },
    {
     "name": "stdout",
     "output_type": "stream",
     "text": [
      "Not Leap Year\n"
     ]
    }
   ],
   "source": [
    "year = int(input(\"Enter the leap year: \"))\n",
    "def checkLeapYear(year):\n",
    "    if (year%4==0) and (year%100!=0) or (year%400==0):\n",
    "        print(\"Leap Year\")\n",
    "    else:\n",
    "        print(\"Not Leap Year\")\n",
    "checkLeapYear(year)"
   ]
  },
  {
   "cell_type": "markdown",
   "id": "dab8c9a6-ee24-450d-9e54-3bcda36a6c1d",
   "metadata": {},
   "source": [
    "- You have to develop a number guessing game"
   ]
  },
  {
   "cell_type": "code",
   "execution_count": 78,
   "id": "ac21f09b-29fc-4507-b350-31faaa859c60",
   "metadata": {},
   "outputs": [
    {
     "name": "stdin",
     "output_type": "stream",
     "text": [
      "Guess the number in between one to hundred:  5\n"
     ]
    },
    {
     "name": "stdout",
     "output_type": "stream",
     "text": [
      "Number too small\n"
     ]
    },
    {
     "name": "stdin",
     "output_type": "stream",
     "text": [
      "Guess the number in between one to hundred:  54\n"
     ]
    },
    {
     "name": "stdout",
     "output_type": "stream",
     "text": [
      "Number too large\n"
     ]
    },
    {
     "name": "stdin",
     "output_type": "stream",
     "text": [
      "Guess the number in between one to hundred:  400\n"
     ]
    },
    {
     "name": "stdout",
     "output_type": "stream",
     "text": [
      "Number too large\n"
     ]
    },
    {
     "name": "stdin",
     "output_type": "stream",
     "text": [
      "Guess the number in between one to hundred:  41\n"
     ]
    },
    {
     "name": "stdout",
     "output_type": "stream",
     "text": [
      "Number too large\n"
     ]
    },
    {
     "name": "stdin",
     "output_type": "stream",
     "text": [
      "Guess the number in between one to hundred:  1\n"
     ]
    },
    {
     "name": "stdout",
     "output_type": "stream",
     "text": [
      "Number too small\n"
     ]
    },
    {
     "name": "stdin",
     "output_type": "stream",
     "text": [
      "Guess the number in between one to hundred:  -1\n"
     ]
    },
    {
     "name": "stdout",
     "output_type": "stream",
     "text": [
      "You have quited the game, to play restart the game\n"
     ]
    }
   ],
   "source": [
    "import random\n",
    "def numberGusserGame():\n",
    "    while True:\n",
    "        num=int(input(\"Guess the number in between one to hundred: \"))\n",
    "        randomNumber = random.randint(0,100)\n",
    "        if num<=0:\n",
    "            print(\"You have quited the game, to play restart the game\")\n",
    "            break\n",
    "        elif num==randomNumber:\n",
    "            print(\"Congratulations! You guessed it right\")\n",
    "            break\n",
    "        elif num > randomNumber:\n",
    "            print(\"Number too large\")\n",
    "        elif num < randomNumber:\n",
    "            print(\"Number too small\")\n",
    "numberGusserGame()          "
   ]
  },
  {
   "cell_type": "markdown",
   "id": "146171a7-5213-4ca8-bba3-9ce58b1ed320",
   "metadata": {},
   "source": [
    "- Write a program to accept a string from the user and display it vertically but don’t display the vowels in it."
   ]
  },
  {
   "cell_type": "code",
   "execution_count": 81,
   "id": "a779fa19-e600-48ce-889f-091ff780749a",
   "metadata": {},
   "outputs": [
    {
     "name": "stdin",
     "output_type": "stream",
     "text": [
      "Enter the name:  Srikanta Biswal\n"
     ]
    },
    {
     "name": "stdout",
     "output_type": "stream",
     "text": [
      "S\n",
      "r\n",
      "k\n",
      "n\n",
      "t\n",
      " \n",
      "B\n",
      "s\n",
      "w\n",
      "l\n"
     ]
    }
   ],
   "source": [
    "name =input(\"Enter the name: \")\n",
    "vowel='aeiou'\n",
    "def display(name):\n",
    "    for ch in name:\n",
    "        if ch.lower() not in 'aeiou':\n",
    "            print(ch)\n",
    "display(name)"
   ]
  },
  {
   "cell_type": "markdown",
   "id": "6d3d8965-ce80-4e35-80d0-b4ad43c7b2e9",
   "metadata": {},
   "source": [
    "- Write a program to continuously accept integers from the user until the user types 0 and as soon as 0 is entered display sum of all the nos entered before 0"
   ]
  },
  {
   "cell_type": "code",
   "execution_count": 82,
   "id": "4e1a79fc-0c50-4d32-beee-7464435a6443",
   "metadata": {},
   "outputs": [
    {
     "name": "stdin",
     "output_type": "stream",
     "text": [
      "Enter a number:  5\n",
      "Enter a number:  6\n",
      "Enter a number:  10\n",
      "Enter a number:  -1\n",
      "Enter a number:  10\n",
      "Enter a number:  0\n"
     ]
    },
    {
     "name": "stdout",
     "output_type": "stream",
     "text": [
      "Total sum:  31\n"
     ]
    }
   ],
   "source": [
    "def totalSum():\n",
    "    sum=0\n",
    "    while True:\n",
    "        num = int(input(\"Enter a number: \"))\n",
    "        if num==0:\n",
    "            break\n",
    "        elif num<0:\n",
    "            continue\n",
    "        elif num>0:\n",
    "            sum+=num\n",
    "    return sum\n",
    "total = totalSum()\n",
    "print(\"Total sum: \", total)"
   ]
  },
  {
   "cell_type": "markdown",
   "id": "befb7370-15de-4fbc-b691-c238905d2841",
   "metadata": {},
   "source": [
    "- Write a program using a for loop to accept a string from the user and display it vertically but don’t display the vowels in it."
   ]
  },
  {
   "cell_type": "code",
   "execution_count": 83,
   "id": "d9386b50-d03f-43ef-a105-7686445c5161",
   "metadata": {},
   "outputs": [
    {
     "name": "stdin",
     "output_type": "stream",
     "text": [
      "Enter the name:  Srikanta Biswal\n"
     ]
    },
    {
     "name": "stdout",
     "output_type": "stream",
     "text": [
      "S\n",
      "r\n",
      "k\n",
      "n\n",
      "t\n",
      " \n",
      "B\n",
      "s\n",
      "w\n",
      "l\n"
     ]
    }
   ],
   "source": [
    "name =input(\"Enter the name: \")\n",
    "vowel='aeiou'\n",
    "def display(name):\n",
    "    for ch in name:\n",
    "        if ch.lower() not in 'aeiou':\n",
    "            print(ch)\n",
    "display(name)"
   ]
  },
  {
   "cell_type": "markdown",
   "id": "7b15b0af-db47-4dff-94a3-2690e17c9928",
   "metadata": {},
   "source": [
    "- Write a program to accept an integer from the user and display the sum of all the numbers from 1 to that number."
   ]
  },
  {
   "cell_type": "code",
   "execution_count": 86,
   "id": "b1ae9994-97d8-40c9-8a88-b180c37b1164",
   "metadata": {},
   "outputs": [
    {
     "name": "stdin",
     "output_type": "stream",
     "text": [
      "Enter a number:  10\n"
     ]
    },
    {
     "name": "stdout",
     "output_type": "stream",
     "text": [
      "Sum All:  55\n"
     ]
    }
   ],
   "source": [
    "num = int(input(\"Enter a number: \"))\n",
    "def sumAllNumber(num):\n",
    "    sumA=(num*(num+1))//2\n",
    "    return sumA\n",
    "sumA=sumAllNumber(num)\n",
    "print(\"Sum All: \", sumA)"
   ]
  },
  {
   "cell_type": "markdown",
   "id": "bc80391d-ad62-47c1-b4e4-4d1b4ced94d3",
   "metadata": {},
   "source": [
    "- Write a program to accept an integer from the user and calculate its factorial"
   ]
  },
  {
   "cell_type": "code",
   "execution_count": 89,
   "id": "49641832-6149-491f-a945-a87e352eeb72",
   "metadata": {},
   "outputs": [
    {
     "name": "stdin",
     "output_type": "stream",
     "text": [
      "Enter a number:  5\n"
     ]
    },
    {
     "name": "stdout",
     "output_type": "stream",
     "text": [
      "Factorial:  120\n"
     ]
    }
   ],
   "source": [
    "num = int(input(\"Enter a number: \"))\n",
    "def fact(num):\n",
    "    res=1\n",
    "    for i in range(2,num+1):\n",
    "        res*=i\n",
    "    return res\n",
    "factA=fact(num)\n",
    "print(\"Factorial: \", factA)"
   ]
  },
  {
   "cell_type": "markdown",
   "id": "50988bd6-0364-45e3-babe-ba1e52b3a71e",
   "metadata": {},
   "source": [
    "- Write a program to print the following pattern \n",
    "###### * * *\n",
    "###### * * *\n",
    "###### * * *"
   ]
  },
  {
   "cell_type": "code",
   "execution_count": 93,
   "id": "b971da7d-8447-46eb-9e48-08db287a9090",
   "metadata": {},
   "outputs": [
    {
     "name": "stdin",
     "output_type": "stream",
     "text": [
      "Enter a number:  5\n"
     ]
    },
    {
     "name": "stdout",
     "output_type": "stream",
     "text": [
      "* * * * * \n",
      "* * * * * \n",
      "* * * * * \n",
      "* * * * * \n",
      "* * * * * \n"
     ]
    }
   ],
   "source": [
    "num = int(input(\"Enter a number: \"))\n",
    "def starSquareplot(num):\n",
    "    for i in range(num):\n",
    "        for j in range(num):\n",
    "            print('*', end=' ')\n",
    "        print()\n",
    "starSquareplot(num)"
   ]
  },
  {
   "cell_type": "markdown",
   "id": "e0ab663b-5a80-4c90-bd89-d6b0e2bc9937",
   "metadata": {},
   "source": [
    "- Write a program to print the following pattern\n",
    "###### *\n",
    "###### * * \n",
    "###### * * *\n",
    "###### * * * *"
   ]
  },
  {
   "cell_type": "code",
   "execution_count": 96,
   "id": "33982098-01d1-4e57-93f5-79741a574582",
   "metadata": {},
   "outputs": [
    {
     "name": "stdin",
     "output_type": "stream",
     "text": [
      "Enter a number:  5\n"
     ]
    },
    {
     "name": "stdout",
     "output_type": "stream",
     "text": [
      "* \n",
      "* * \n",
      "* * * \n",
      "* * * * \n",
      "* * * * * \n"
     ]
    }
   ],
   "source": [
    "num = int(input(\"Enter a number: \"))\n",
    "def starUpperTrianglePlot(num):\n",
    "    for i in range(num):\n",
    "        for j in range(i+1):\n",
    "            print('*', end=' ')\n",
    "        print()\n",
    "starUpperTrianglePlot(num)"
   ]
  },
  {
   "cell_type": "markdown",
   "id": "6886aff1-8d3e-42ba-a8e1-c1c0182aea01",
   "metadata": {},
   "source": [
    "- Write a program to print the following pattern \n",
    "###### * * * *\n",
    "###### * * *\n",
    "###### * * \n",
    "###### * "
   ]
  },
  {
   "cell_type": "code",
   "execution_count": 100,
   "id": "b879c517-ed95-4c02-aba2-51d9c55de3ec",
   "metadata": {},
   "outputs": [
    {
     "name": "stdin",
     "output_type": "stream",
     "text": [
      "Enter a number:  5\n"
     ]
    },
    {
     "name": "stdout",
     "output_type": "stream",
     "text": [
      "* * * * * \n",
      "* * * * \n",
      "* * * \n",
      "* * \n",
      "* \n"
     ]
    }
   ],
   "source": [
    "num = int(input(\"Enter a number: \"))\n",
    "def starLowerTrianglePlot(num):\n",
    "    for i in range(num):\n",
    "        n=num-i\n",
    "        while n>0:\n",
    "            print('*', end=' ')\n",
    "            n=n-1     \n",
    "        print()\n",
    "starLowerTrianglePlot(num)"
   ]
  },
  {
   "cell_type": "code",
   "execution_count": 103,
   "id": "8a961c83-67da-4fe2-addc-49327ebd938b",
   "metadata": {},
   "outputs": [
    {
     "name": "stdin",
     "output_type": "stream",
     "text": [
      "Enter a number:  5\n"
     ]
    },
    {
     "name": "stdout",
     "output_type": "stream",
     "text": [
      "* * * * * \n",
      "* * * * \n",
      "* * * \n",
      "* * \n",
      "* \n"
     ]
    }
   ],
   "source": [
    "num = int(input(\"Enter a number: \"))\n",
    "def starLowerTrianglePlot(num):\n",
    "    for i in range(num):\n",
    "        for j in range(num-i):\n",
    "            print('*', end=' ')\n",
    "        print()\n",
    "starLowerTrianglePlot(num)"
   ]
  },
  {
   "cell_type": "markdown",
   "id": "8a580002-cf73-4721-9b38-ea16efe1fdd6",
   "metadata": {},
   "source": [
    "- Write a program to accept an integer from the user and display all the numbers from 1 to that number. Repeat the process until the user enters 0."
   ]
  },
  {
   "cell_type": "code",
   "execution_count": 107,
   "id": "76a698f0-0667-46dd-b042-92e3b1a9d4fa",
   "metadata": {},
   "outputs": [
    {
     "name": "stdin",
     "output_type": "stream",
     "text": [
      "Enter a number:  5\n"
     ]
    },
    {
     "name": "stdout",
     "output_type": "stream",
     "text": [
      "1 2 3 4 5 \n"
     ]
    },
    {
     "name": "stdin",
     "output_type": "stream",
     "text": [
      "Enter a number:  6\n"
     ]
    },
    {
     "name": "stdout",
     "output_type": "stream",
     "text": [
      "1 2 3 4 5 6 \n"
     ]
    },
    {
     "name": "stdin",
     "output_type": "stream",
     "text": [
      "Enter a number:  10\n"
     ]
    },
    {
     "name": "stdout",
     "output_type": "stream",
     "text": [
      "1 2 3 4 5 6 7 8 9 10 \n"
     ]
    },
    {
     "name": "stdin",
     "output_type": "stream",
     "text": [
      "Enter a number:  0\n"
     ]
    }
   ],
   "source": [
    "def allNumber():\n",
    "    while True:\n",
    "        num = int(input(\"Enter a number: \"))\n",
    "        if num==0:\n",
    "            break\n",
    "        else:\n",
    "            for i in range(1,num+1):\n",
    "                print(i, end=' ')\n",
    "        print()\n",
    "allNumber()"
   ]
  },
  {
   "cell_type": "code",
   "execution_count": null,
   "id": "6de0c038-ce3d-49d1-8690-892824f797eb",
   "metadata": {},
   "outputs": [],
   "source": []
  }
 ],
 "metadata": {
  "kernelspec": {
   "display_name": "Python 3 (ipykernel)",
   "language": "python",
   "name": "python3"
  },
  "language_info": {
   "codemirror_mode": {
    "name": "ipython",
    "version": 3
   },
   "file_extension": ".py",
   "mimetype": "text/x-python",
   "name": "python",
   "nbconvert_exporter": "python",
   "pygments_lexer": "ipython3",
   "version": "3.10.6"
  }
 },
 "nbformat": 4,
 "nbformat_minor": 5
}
